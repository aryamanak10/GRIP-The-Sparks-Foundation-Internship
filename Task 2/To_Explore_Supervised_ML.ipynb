{
  "nbformat": 4,
  "nbformat_minor": 0,
  "metadata": {
    "kernelspec": {
      "display_name": "Python 3",
      "language": "python",
      "name": "python3"
    },
    "language_info": {
      "codemirror_mode": {
        "name": "ipython",
        "version": 3
      },
      "file_extension": ".py",
      "mimetype": "text/x-python",
      "name": "python",
      "nbconvert_exporter": "python",
      "pygments_lexer": "ipython3",
      "version": "3.7.6"
    },
    "colab": {
      "name": "Task 2 - To Explore Supervised ML.ipynb",
      "provenance": [],
      "collapsed_sections": []
    }
  },
  "cells": [
    {
      "cell_type": "markdown",
      "metadata": {
        "id": "GwErCwTQQzvB",
        "colab_type": "text"
      },
      "source": [
        "## Intern Name : Aryaman S. Kakad"
      ]
    },
    {
      "cell_type": "markdown",
      "metadata": {
        "id": "H6WlF2NBPcUD",
        "colab_type": "text"
      },
      "source": [
        "#### Problem Statement: Predicting percentage score of a student based on numbers of hours of study of that particular student.\n",
        "\n",
        "#### In this notebook we will be training different supervised learning models and chose one which has the best validation accuracy\n"
      ]
    },
    {
      "cell_type": "markdown",
      "metadata": {
        "id": "yB4SzSEhR29w",
        "colab_type": "text"
      },
      "source": [
        "### Importing all the relevant libraries"
      ]
    },
    {
      "cell_type": "code",
      "metadata": {
        "id": "2IVjcVFnPcUF",
        "colab_type": "code",
        "colab": {}
      },
      "source": [
        "# Importing the required libraries\n",
        "\n",
        "import pandas as pd\n",
        "import numpy as np  \n",
        "import matplotlib.pyplot as plt\n",
        "import seaborn as sns\n",
        "\n",
        "from sklearn.model_selection import train_test_split\n",
        "from sklearn.linear_model import LinearRegression,Ridge,Lasso,ElasticNet\n",
        "from sklearn.ensemble import RandomForestRegressor\n",
        "from sklearn.metrics import mean_absolute_error,mean_squared_error\n",
        "\n",
        "%matplotlib inline"
      ],
      "execution_count": null,
      "outputs": []
    },
    {
      "cell_type": "markdown",
      "metadata": {
        "id": "NQbymPnDRwat",
        "colab_type": "text"
      },
      "source": [
        "### Reading the Dataset"
      ]
    },
    {
      "cell_type": "code",
      "metadata": {
        "id": "OM9vkp4RPcUN",
        "colab_type": "code",
        "colab": {
          "base_uri": "https://localhost:8080/",
          "height": 212
        },
        "outputId": "cd380e7a-7f33-470e-e992-5cca79357fb8"
      },
      "source": [
        "# Reading data from remote link\n",
        "\n",
        "url = \"http://bit.ly/w-data\"\n",
        "df = pd.read_csv(url)\n",
        "print(\"Data imported successfully\")\n",
        "\n",
        "# Printing first 5 rows using the head attribute.\n",
        "df.head()"
      ],
      "execution_count": null,
      "outputs": [
        {
          "output_type": "stream",
          "text": [
            "Data imported successfully\n"
          ],
          "name": "stdout"
        },
        {
          "output_type": "execute_result",
          "data": {
            "text/html": [
              "<div>\n",
              "<style scoped>\n",
              "    .dataframe tbody tr th:only-of-type {\n",
              "        vertical-align: middle;\n",
              "    }\n",
              "\n",
              "    .dataframe tbody tr th {\n",
              "        vertical-align: top;\n",
              "    }\n",
              "\n",
              "    .dataframe thead th {\n",
              "        text-align: right;\n",
              "    }\n",
              "</style>\n",
              "<table border=\"1\" class=\"dataframe\">\n",
              "  <thead>\n",
              "    <tr style=\"text-align: right;\">\n",
              "      <th></th>\n",
              "      <th>Hours</th>\n",
              "      <th>Scores</th>\n",
              "    </tr>\n",
              "  </thead>\n",
              "  <tbody>\n",
              "    <tr>\n",
              "      <th>0</th>\n",
              "      <td>2.5</td>\n",
              "      <td>21</td>\n",
              "    </tr>\n",
              "    <tr>\n",
              "      <th>1</th>\n",
              "      <td>5.1</td>\n",
              "      <td>47</td>\n",
              "    </tr>\n",
              "    <tr>\n",
              "      <th>2</th>\n",
              "      <td>3.2</td>\n",
              "      <td>27</td>\n",
              "    </tr>\n",
              "    <tr>\n",
              "      <th>3</th>\n",
              "      <td>8.5</td>\n",
              "      <td>75</td>\n",
              "    </tr>\n",
              "    <tr>\n",
              "      <th>4</th>\n",
              "      <td>3.5</td>\n",
              "      <td>30</td>\n",
              "    </tr>\n",
              "  </tbody>\n",
              "</table>\n",
              "</div>"
            ],
            "text/plain": [
              "   Hours  Scores\n",
              "0    2.5      21\n",
              "1    5.1      47\n",
              "2    3.2      27\n",
              "3    8.5      75\n",
              "4    3.5      30"
            ]
          },
          "metadata": {
            "tags": []
          },
          "execution_count": 2
        }
      ]
    },
    {
      "cell_type": "markdown",
      "metadata": {
        "id": "NPdU0DSHSEyF",
        "colab_type": "text"
      },
      "source": [
        "### Checking for any missing or NAN values"
      ]
    },
    {
      "cell_type": "code",
      "metadata": {
        "id": "5Mt6N45RSDa1",
        "colab_type": "code",
        "colab": {
          "base_uri": "https://localhost:8080/",
          "height": 67
        },
        "outputId": "9a531d40-28bb-48b4-eb0d-7c3a94293cc4"
      },
      "source": [
        "df.isna().sum()"
      ],
      "execution_count": null,
      "outputs": [
        {
          "output_type": "execute_result",
          "data": {
            "text/plain": [
              "Hours     0\n",
              "Scores    0\n",
              "dtype: int64"
            ]
          },
          "metadata": {
            "tags": []
          },
          "execution_count": 3
        }
      ]
    },
    {
      "cell_type": "markdown",
      "metadata": {
        "id": "9rgYo713S8u5",
        "colab_type": "text"
      },
      "source": [
        "### Visualizing the relationship between hours and scores"
      ]
    },
    {
      "cell_type": "code",
      "metadata": {
        "id": "R-MJSjgdS-lK",
        "colab_type": "code",
        "colab": {
          "base_uri": "https://localhost:8080/",
          "height": 295
        },
        "outputId": "bebead11-f6c4-45a9-a3ab-e11b14b648a0"
      },
      "source": [
        "# Plotting the distribution of scores vs number of hours\n",
        "\n",
        "df.plot(x='Hours', y='Scores', style='o')  \n",
        "plt.title('Hours vs Percentage')  \n",
        "plt.xlabel('Hours Studied')  \n",
        "plt.ylabel('Percentage Score')  \n",
        "plt.show()"
      ],
      "execution_count": null,
      "outputs": [
        {
          "output_type": "display_data",
          "data": {
            "image/png": "[encoded data removed]",
            "text/plain": [
              "<Figure size 432x288 with 1 Axes>"
            ]
          },
          "metadata": {
            "tags": [],
            "needs_background": "light"
          }
        }
      ]
    },
    {
      "cell_type": "code",
      "metadata": {
        "id": "zcFa6LW0PcUg",
        "colab_type": "code",
        "colab": {
          "base_uri": "https://localhost:8080/",
          "height": 514
        },
        "outputId": "3c18208c-9c14-4ed3-fee8-86b8b68dbe29"
      },
      "source": [
        "# Bar graph representation of given data\n",
        "\n",
        "plt.figure(figsize=(10,8))\n",
        "sns.barplot(x=df['Hours'],y=df['Scores'])"
      ],
      "execution_count": null,
      "outputs": [
        {
          "output_type": "execute_result",
          "data": {
            "text/plain": [
              "<matplotlib.axes._subplots.AxesSubplot at 0x7f9932ff6080>"
            ]
          },
          "metadata": {
            "tags": []
          },
          "execution_count": 5
        },
        {
          "output_type": "display_data",
          "data": {
            "image/png": "[encoded data removed]",
            "text/plain": [
              "<Figure size 720x576 with 1 Axes>"
            ]
          },
          "metadata": {
            "tags": [],
            "needs_background": "light"
          }
        }
      ]
    },
    {
      "cell_type": "markdown",
      "metadata": {
        "id": "rgTrZ2qhTNGq",
        "colab_type": "text"
      },
      "source": [
        "**INFERENCE**: From the graph above we can see there is a positive relation between hours studied and scores\n"
      ]
    },
    {
      "cell_type": "markdown",
      "metadata": {
        "id": "9iP94DMYTYcY",
        "colab_type": "text"
      },
      "source": [
        "### Splitting the data set into dependent and independent features"
      ]
    },
    {
      "cell_type": "code",
      "metadata": {
        "id": "D7WsVO7ePcUU",
        "colab_type": "code",
        "colab": {
          "base_uri": "https://localhost:8080/",
          "height": 50
        },
        "outputId": "d3879f8b-42fe-47ce-d092-73fd759a8557"
      },
      "source": [
        "X = np.array(df['Hours']).reshape(-1, 1) \n",
        "Y = np.array(df['Scores']).reshape(-1, 1)\n",
        "\n",
        "print('X_arr shape: ', X.shape)\n",
        "print('Y_arr shape: ', Y.shape)"
      ],
      "execution_count": null,
      "outputs": [
        {
          "output_type": "stream",
          "text": [
            "X_arr shape:  (25, 1)\n",
            "Y_arr shape:  (25, 1)\n"
          ],
          "name": "stdout"
        }
      ]
    },
    {
      "cell_type": "markdown",
      "metadata": {
        "id": "Nm2OrwXEUXpA",
        "colab_type": "text"
      },
      "source": [
        "### Splitting the data set (80% training set and 20% validation set )"
      ]
    },
    {
      "cell_type": "code",
      "metadata": {
        "id": "y6Y40BcAPcUn",
        "colab_type": "code",
        "colab": {
          "base_uri": "https://localhost:8080/",
          "height": 84
        },
        "outputId": "83ecd831-1e46-44ad-8fcf-beec17958a41"
      },
      "source": [
        "X_train, X_val, y_train, y_val = train_test_split(X, Y, test_size = 0.2, shuffle = True, random_state=0)\n",
        "\n",
        "print('X_train shape: ', X_train.shape)\n",
        "print('y_train shape: ', y_train.shape)\n",
        "print('X_test shape: ', X_val.shape)\n",
        "print('y_test shape: ', y_val.shape)"
      ],
      "execution_count": null,
      "outputs": [
        {
          "output_type": "stream",
          "text": [
            "X_train shape:  (20, 1)\n",
            "y_train shape:  (20, 1)\n",
            "X_test shape:  (5, 1)\n",
            "y_test shape:  (5, 1)\n"
          ],
          "name": "stdout"
        }
      ]
    },
    {
      "cell_type": "markdown",
      "metadata": {
        "id": "70jZmvxSPcUs",
        "colab_type": "text"
      },
      "source": [
        "# Training Model 1 : Linear Regression"
      ]
    },
    {
      "cell_type": "code",
      "metadata": {
        "id": "b1buzGzFPcUu",
        "colab_type": "code",
        "colab": {
          "base_uri": "https://localhost:8080/",
          "height": 34
        },
        "outputId": "9c070c1b-f2a8-4df7-82a8-396250692ca7"
      },
      "source": [
        "linModel = LinearRegression()  \n",
        "linModel.fit(X_train, y_train)"
      ],
      "execution_count": null,
      "outputs": [
        {
          "output_type": "execute_result",
          "data": {
            "text/plain": [
              "LinearRegression(copy_X=True, fit_intercept=True, n_jobs=None, normalize=False)"
            ]
          },
          "metadata": {
            "tags": []
          },
          "execution_count": 8
        }
      ]
    },
    {
      "cell_type": "markdown",
      "metadata": {
        "id": "0fJG_XMNVWw1",
        "colab_type": "text"
      },
      "source": [
        "### Visualizing the model fit"
      ]
    },
    {
      "cell_type": "code",
      "metadata": {
        "id": "4GFAfHwUVaeC",
        "colab_type": "code",
        "colab": {
          "base_uri": "https://localhost:8080/",
          "height": 302
        },
        "outputId": "1f18808e-1c7a-40bc-913c-6edf2abb7c5e"
      },
      "source": [
        "# Plotting the regression line\n",
        "line = linModel.coef_*X +linModel.intercept_\n",
        "\n",
        "# Plotting for the training data\n",
        "plt.scatter(X, Y,color='red',marker='^')\n",
        "plt.plot(X, line,color='blue')\n",
        "plt.ylabel(\"Scores\",fontsize=15)\n",
        "plt.xlabel(\"Hours\",fontsize=15)\n",
        "plt.title(\"Linear regression plot\",fontsize=15)\n",
        "plt.show()"
      ],
      "execution_count": null,
      "outputs": [
        {
          "output_type": "display_data",
          "data": {
            "image/png": "[encoded data removed]",
            "text/plain": [
              "<Figure size 432x288 with 1 Axes>"
            ]
          },
          "metadata": {
            "tags": [],
            "needs_background": "light"
          }
        }
      ]
    },
    {
      "cell_type": "markdown",
      "metadata": {
        "id": "TlpZCIIAVmP2",
        "colab_type": "text"
      },
      "source": [
        "### Comparing the actual target values with model predicted target values"
      ]
    },
    {
      "cell_type": "code",
      "metadata": {
        "id": "uGskwXDYVldI",
        "colab_type": "code",
        "colab": {
          "base_uri": "https://localhost:8080/",
          "height": 195
        },
        "outputId": "3e804c41-293d-467d-ba88-f8fb8d4a4a66"
      },
      "source": [
        "linPrediction = linModel.predict(X_val)\n",
        "df1 = pd.DataFrame({'Actual': y_val.reshape(-1,), 'Predicted': linPrediction.reshape(-1,)})  \n",
        "df1"
      ],
      "execution_count": null,
      "outputs": [
        {
          "output_type": "execute_result",
          "data": {
            "text/html": [
              "<div>\n",
              "<style scoped>\n",
              "    .dataframe tbody tr th:only-of-type {\n",
              "        vertical-align: middle;\n",
              "    }\n",
              "\n",
              "    .dataframe tbody tr th {\n",
              "        vertical-align: top;\n",
              "    }\n",
              "\n",
              "    .dataframe thead th {\n",
              "        text-align: right;\n",
              "    }\n",
              "</style>\n",
              "<table border=\"1\" class=\"dataframe\">\n",
              "  <thead>\n",
              "    <tr style=\"text-align: right;\">\n",
              "      <th></th>\n",
              "      <th>Actual</th>\n",
              "      <th>Predicted</th>\n",
              "    </tr>\n",
              "  </thead>\n",
              "  <tbody>\n",
              "    <tr>\n",
              "      <th>0</th>\n",
              "      <td>20</td>\n",
              "      <td>16.884145</td>\n",
              "    </tr>\n",
              "    <tr>\n",
              "      <th>1</th>\n",
              "      <td>27</td>\n",
              "      <td>33.732261</td>\n",
              "    </tr>\n",
              "    <tr>\n",
              "      <th>2</th>\n",
              "      <td>69</td>\n",
              "      <td>75.357018</td>\n",
              "    </tr>\n",
              "    <tr>\n",
              "      <th>3</th>\n",
              "      <td>30</td>\n",
              "      <td>26.794801</td>\n",
              "    </tr>\n",
              "    <tr>\n",
              "      <th>4</th>\n",
              "      <td>62</td>\n",
              "      <td>60.491033</td>\n",
              "    </tr>\n",
              "  </tbody>\n",
              "</table>\n",
              "</div>"
            ],
            "text/plain": [
              "   Actual  Predicted\n",
              "0      20  16.884145\n",
              "1      27  33.732261\n",
              "2      69  75.357018\n",
              "3      30  26.794801\n",
              "4      62  60.491033"
            ]
          },
          "metadata": {
            "tags": []
          },
          "execution_count": 10
        }
      ]
    },
    {
      "cell_type": "markdown",
      "metadata": {
        "id": "RnrO0RAPWWIV",
        "colab_type": "text"
      },
      "source": [
        "### Evaluating model 1"
      ]
    },
    {
      "cell_type": "code",
      "metadata": {
        "id": "beWlfVdTWaQw",
        "colab_type": "code",
        "colab": {
          "base_uri": "https://localhost:8080/",
          "height": 84
        },
        "outputId": "adcb5c81-fb08-400e-9efb-81e7edc249c7"
      },
      "source": [
        "print('Training Accuracy:',(100*linModel.score(X_train, y_train)).round(2),'%')\n",
        "print('Validation Accuracy',(100*linModel.score(X_val, y_val)).round(2),'%')\n",
        "MAE1=mean_absolute_error(linPrediction,y_val)\n",
        "RMSE1=np.sqrt(mean_squared_error(y_val,linPrediction))\n",
        "print('Mean Absolute error in Model 1:',MAE1.round(2))\n",
        "print('Root Mean Squared Error in Model 1:',RMSE1.round(2))"
      ],
      "execution_count": null,
      "outputs": [
        {
          "output_type": "stream",
          "text": [
            "Training Accuracy: 95.16 %\n",
            "Validation Accuracy 94.55 %\n",
            "Mean Absolute error in Model 1: 4.18\n",
            "Root Mean Squared Error in Model 1: 4.65\n"
          ],
          "name": "stdout"
        }
      ]
    },
    {
      "cell_type": "markdown",
      "metadata": {
        "id": "rEXwwULbYOpL",
        "colab_type": "text"
      },
      "source": [
        "### Training Model 2 : Ridge Regression"
      ]
    },
    {
      "cell_type": "code",
      "metadata": {
        "id": "N_7sUzdUo1f7",
        "colab_type": "code",
        "colab": {
          "base_uri": "https://localhost:8080/",
          "height": 50
        },
        "outputId": "25a0d16d-cd47-4315-a236-d5719f9e5240"
      },
      "source": [
        "# Larger the alhpa value, Stronger the Regularization\n",
        "\n",
        "rr = Ridge(alpha=1,random_state=0 )\n",
        "rr.fit(X_train, y_train)"
      ],
      "execution_count": null,
      "outputs": [
        {
          "output_type": "execute_result",
          "data": {
            "text/plain": [
              "Ridge(alpha=1, copy_X=True, fit_intercept=True, max_iter=None, normalize=False,\n",
              "      random_state=0, solver='auto', tol=0.001)"
            ]
          },
          "metadata": {
            "tags": []
          },
          "execution_count": 12
        }
      ]
    },
    {
      "cell_type": "markdown",
      "metadata": {
        "id": "7o0FMyiEpDMe",
        "colab_type": "text"
      },
      "source": [
        "### Visualizing the model fit\n"
      ]
    },
    {
      "cell_type": "code",
      "metadata": {
        "id": "YJgcgyRDpACw",
        "colab_type": "code",
        "colab": {
          "base_uri": "https://localhost:8080/",
          "height": 302
        },
        "outputId": "0064a5b8-5ae7-4b2d-b021-a49241afb246"
      },
      "source": [
        "plt.scatter(X, Y)\n",
        "plt.plot(X, rr.predict(X), c='red')\n",
        "plt.ylabel(\"Scores\",fontsize=15)\n",
        "plt.xlabel(\"Hours\",fontsize=15)\n",
        "plt.title(\"Ridge Regularization plot\",fontsize=15)\n",
        "plt.show()"
      ],
      "execution_count": null,
      "outputs": [
        {
          "output_type": "display_data",
          "data": {
            "image/png": "[encoded data removed]",
            "text/plain": [
              "<Figure size 432x288 with 1 Axes>"
            ]
          },
          "metadata": {
            "tags": [],
            "needs_background": "light"
          }
        }
      ]
    },
    {
      "cell_type": "markdown",
      "metadata": {
        "id": "ASVJoT6SpPQ_",
        "colab_type": "text"
      },
      "source": [
        "### Comparing the actual target values with model predicted target values\n"
      ]
    },
    {
      "cell_type": "code",
      "metadata": {
        "id": "n2NJDU2CpM59",
        "colab_type": "code",
        "colab": {
          "base_uri": "https://localhost:8080/",
          "height": 195
        },
        "outputId": "54f7ea82-ea18-4308-9988-1bfd0a842174"
      },
      "source": [
        "rrPrediction = rr.predict(X_val)\n",
        "df1 = pd.DataFrame({'Actual': y_val.reshape(-1,), 'Predicted': rrPrediction.reshape(-1,)})  \n",
        "df1"
      ],
      "execution_count": null,
      "outputs": [
        {
          "output_type": "execute_result",
          "data": {
            "text/html": [
              "<div>\n",
              "<style scoped>\n",
              "    .dataframe tbody tr th:only-of-type {\n",
              "        vertical-align: middle;\n",
              "    }\n",
              "\n",
              "    .dataframe tbody tr th {\n",
              "        vertical-align: top;\n",
              "    }\n",
              "\n",
              "    .dataframe thead th {\n",
              "        text-align: right;\n",
              "    }\n",
              "</style>\n",
              "<table border=\"1\" class=\"dataframe\">\n",
              "  <thead>\n",
              "    <tr style=\"text-align: right;\">\n",
              "      <th></th>\n",
              "      <th>Actual</th>\n",
              "      <th>Predicted</th>\n",
              "    </tr>\n",
              "  </thead>\n",
              "  <tbody>\n",
              "    <tr>\n",
              "      <th>0</th>\n",
              "      <td>20</td>\n",
              "      <td>17.181700</td>\n",
              "    </tr>\n",
              "    <tr>\n",
              "      <th>1</th>\n",
              "      <td>27</td>\n",
              "      <td>33.894564</td>\n",
              "    </tr>\n",
              "    <tr>\n",
              "      <th>2</th>\n",
              "      <td>69</td>\n",
              "      <td>75.185168</td>\n",
              "    </tr>\n",
              "    <tr>\n",
              "      <th>3</th>\n",
              "      <td>30</td>\n",
              "      <td>27.012796</td>\n",
              "    </tr>\n",
              "    <tr>\n",
              "      <th>4</th>\n",
              "      <td>62</td>\n",
              "      <td>60.438524</td>\n",
              "    </tr>\n",
              "  </tbody>\n",
              "</table>\n",
              "</div>"
            ],
            "text/plain": [
              "   Actual  Predicted\n",
              "0      20  17.181700\n",
              "1      27  33.894564\n",
              "2      69  75.185168\n",
              "3      30  27.012796\n",
              "4      62  60.438524"
            ]
          },
          "metadata": {
            "tags": []
          },
          "execution_count": 14
        }
      ]
    },
    {
      "cell_type": "markdown",
      "metadata": {
        "id": "WhKwVasBpxC8",
        "colab_type": "text"
      },
      "source": [
        "### Evaluating model 2"
      ]
    },
    {
      "cell_type": "code",
      "metadata": {
        "id": "Vrf1EsV4pfNE",
        "colab_type": "code",
        "colab": {
          "base_uri": "https://localhost:8080/",
          "height": 84
        },
        "outputId": "669d520f-dba2-4e91-ab93-d196dd11d762"
      },
      "source": [
        "print('Training Accuracy:',(100*rr.score(X_train, y_train)).round(2),'%')\n",
        "print('Validation Accuracy',(100*rr.score(X_val, y_val)).round(2),'%')\n",
        "MAE3=mean_absolute_error(rrPrediction,y_val)\n",
        "RMSE3=np.sqrt(mean_squared_error(y_val,rrPrediction))\n",
        "print('Mean Absolute error in Model 1:',MAE3.round(2))\n",
        "print('Root Mean Squared Error in Model 1:',RMSE3.round(2))"
      ],
      "execution_count": null,
      "outputs": [
        {
          "output_type": "stream",
          "text": [
            "Training Accuracy: 95.15 %\n",
            "Validation Accuracy 94.7 %\n",
            "Mean Absolute error in Model 1: 4.09\n",
            "Root Mean Squared Error in Model 1: 4.58\n"
          ],
          "name": "stdout"
        }
      ]
    },
    {
      "cell_type": "markdown",
      "metadata": {
        "id": "2OPRQSYaqgeP",
        "colab_type": "text"
      },
      "source": [
        "### Training model 3 : Lasso Regression"
      ]
    },
    {
      "cell_type": "code",
      "metadata": {
        "id": "PtAjgaRXp3K8",
        "colab_type": "code",
        "colab": {
          "base_uri": "https://localhost:8080/",
          "height": 67
        },
        "outputId": "48574e7d-47c3-40d3-acba-add22e48e032"
      },
      "source": [
        "lasso = Lasso(alpha=1,random_state = 0)\n",
        "lasso.fit(X_train,y_train)"
      ],
      "execution_count": null,
      "outputs": [
        {
          "output_type": "execute_result",
          "data": {
            "text/plain": [
              "Lasso(alpha=1, copy_X=True, fit_intercept=True, max_iter=1000, normalize=False,\n",
              "      positive=False, precompute=False, random_state=0, selection='cyclic',\n",
              "      tol=0.0001, warm_start=False)"
            ]
          },
          "metadata": {
            "tags": []
          },
          "execution_count": 16
        }
      ]
    },
    {
      "cell_type": "markdown",
      "metadata": {
        "id": "1-3p8VDqqoqq",
        "colab_type": "text"
      },
      "source": [
        "### Visualizing the Model Fit"
      ]
    },
    {
      "cell_type": "code",
      "metadata": {
        "id": "h06BFw4Dqlwk",
        "colab_type": "code",
        "colab": {
          "base_uri": "https://localhost:8080/",
          "height": 302
        },
        "outputId": "27f8bc80-6e4d-4775-ac39-176c9ff7c6af"
      },
      "source": [
        "plt.scatter(X, Y)\n",
        "plt.plot(X, lasso.predict(X), c='red')\n",
        "plt.ylabel(\"Scores\",fontsize=15)\n",
        "plt.xlabel(\"Hours\",fontsize=15)\n",
        "plt.title(\"Lasso Regression plot\",fontsize=15)\n",
        "plt.show()"
      ],
      "execution_count": null,
      "outputs": [
        {
          "output_type": "display_data",
          "data": {
            "image/png": "[encoded data removed]",
            "text/plain": [
              "<Figure size 432x288 with 1 Axes>"
            ]
          },
          "metadata": {
            "tags": [],
            "needs_background": "light"
          }
        }
      ]
    },
    {
      "cell_type": "markdown",
      "metadata": {
        "id": "M2UsxhuUq4gu",
        "colab_type": "text"
      },
      "source": [
        "### Comparing the actual target values with model predicted target values"
      ]
    },
    {
      "cell_type": "code",
      "metadata": {
        "id": "iT6aN_3Pqn8O",
        "colab_type": "code",
        "colab": {
          "base_uri": "https://localhost:8080/",
          "height": 195
        },
        "outputId": "669c1092-60e9-4d1f-ebec-5571d7c934c9"
      },
      "source": [
        "lassoPrediction = lasso.predict(X_val)\n",
        "df1 = pd.DataFrame({'Actual': y_val.reshape(-1,), 'Predicted': lassoPrediction.reshape(-1,)})  \n",
        "df1"
      ],
      "execution_count": null,
      "outputs": [
        {
          "output_type": "execute_result",
          "data": {
            "text/html": [
              "<div>\n",
              "<style scoped>\n",
              "    .dataframe tbody tr th:only-of-type {\n",
              "        vertical-align: middle;\n",
              "    }\n",
              "\n",
              "    .dataframe tbody tr th {\n",
              "        vertical-align: top;\n",
              "    }\n",
              "\n",
              "    .dataframe thead th {\n",
              "        text-align: right;\n",
              "    }\n",
              "</style>\n",
              "<table border=\"1\" class=\"dataframe\">\n",
              "  <thead>\n",
              "    <tr style=\"text-align: right;\">\n",
              "      <th></th>\n",
              "      <th>Actual</th>\n",
              "      <th>Predicted</th>\n",
              "    </tr>\n",
              "  </thead>\n",
              "  <tbody>\n",
              "    <tr>\n",
              "      <th>0</th>\n",
              "      <td>20</td>\n",
              "      <td>17.489479</td>\n",
              "    </tr>\n",
              "    <tr>\n",
              "      <th>1</th>\n",
              "      <td>27</td>\n",
              "      <td>34.062443</td>\n",
              "    </tr>\n",
              "    <tr>\n",
              "      <th>2</th>\n",
              "      <td>69</td>\n",
              "      <td>75.007413</td>\n",
              "    </tr>\n",
              "    <tr>\n",
              "      <th>3</th>\n",
              "      <td>30</td>\n",
              "      <td>27.238282</td>\n",
              "    </tr>\n",
              "    <tr>\n",
              "      <th>4</th>\n",
              "      <td>62</td>\n",
              "      <td>60.384210</td>\n",
              "    </tr>\n",
              "  </tbody>\n",
              "</table>\n",
              "</div>"
            ],
            "text/plain": [
              "   Actual  Predicted\n",
              "0      20  17.489479\n",
              "1      27  34.062443\n",
              "2      69  75.007413\n",
              "3      30  27.238282\n",
              "4      62  60.384210"
            ]
          },
          "metadata": {
            "tags": []
          },
          "execution_count": 18
        }
      ]
    },
    {
      "cell_type": "markdown",
      "metadata": {
        "id": "MMPKUucUrCSm",
        "colab_type": "text"
      },
      "source": [
        "### Evaluating Model 3"
      ]
    },
    {
      "cell_type": "code",
      "metadata": {
        "id": "Q18YigQDq2qZ",
        "colab_type": "code",
        "colab": {
          "base_uri": "https://localhost:8080/",
          "height": 84
        },
        "outputId": "4f1da650-a9b4-4750-e6f7-6deaed469cdc"
      },
      "source": [
        "print('Training Accuracy:',(100*lasso.score(X_train, y_train)).round(2),'%')\n",
        "print('Validation Accuracy',(100*lasso.score(X_val, y_val)).round(2),'%')\n",
        "MAE4=mean_absolute_error(lassoPrediction,y_val)\n",
        "RMSE4=np.sqrt(mean_squared_error(y_val,lassoPrediction))\n",
        "print('Mean Absolute error in Model 1:',MAE4.round(2))\n",
        "print('Root Mean Squared Error in Model 1:',RMSE4.round(2))"
      ],
      "execution_count": null,
      "outputs": [
        {
          "output_type": "stream",
          "text": [
            "Training Accuracy: 95.13 %\n",
            "Validation Accuracy 94.83 %\n",
            "Mean Absolute error in Model 1: 3.99\n",
            "Root Mean Squared Error in Model 1: 4.53\n"
          ],
          "name": "stdout"
        }
      ]
    },
    {
      "cell_type": "markdown",
      "metadata": {
        "id": "C1mRbi1SrJM6",
        "colab_type": "text"
      },
      "source": [
        "### Training Model 4 : Random Forest Regressor"
      ]
    },
    {
      "cell_type": "code",
      "metadata": {
        "id": "tXrVIV83rZ5x",
        "colab_type": "code",
        "colab": {
          "base_uri": "https://localhost:8080/",
          "height": 134
        },
        "outputId": "685ffca3-876c-4b53-b303-2c9e536e8354"
      },
      "source": [
        "RFmodel = RandomForestRegressor(n_estimators=10 ,random_state=0)\n",
        "y_train_rf = y_train.reshape(20, )\n",
        "RFmodel.fit(X_train,y_train_rf)"
      ],
      "execution_count": null,
      "outputs": [
        {
          "output_type": "execute_result",
          "data": {
            "text/plain": [
              "RandomForestRegressor(bootstrap=True, ccp_alpha=0.0, criterion='mse',\n",
              "                      max_depth=None, max_features='auto', max_leaf_nodes=None,\n",
              "                      max_samples=None, min_impurity_decrease=0.0,\n",
              "                      min_impurity_split=None, min_samples_leaf=1,\n",
              "                      min_samples_split=2, min_weight_fraction_leaf=0.0,\n",
              "                      n_estimators=10, n_jobs=None, oob_score=False,\n",
              "                      random_state=0, verbose=0, warm_start=False)"
            ]
          },
          "metadata": {
            "tags": []
          },
          "execution_count": 23
        }
      ]
    },
    {
      "cell_type": "markdown",
      "metadata": {
        "id": "Qc4geHr8sf1O",
        "colab_type": "text"
      },
      "source": [
        "### Visualizing a single decision tree"
      ]
    },
    {
      "cell_type": "code",
      "metadata": {
        "id": "lA9VuLILsPbP",
        "colab_type": "code",
        "colab": {}
      },
      "source": [
        "# Import tools needed for visualization\n",
        "from sklearn.tree import export_graphviz\n",
        "import pydot\n",
        "# Pull out one tree from the forest\n",
        "tree = RFmodel.estimators_[4]\n",
        "# Export the image to a dot file\n",
        "export_graphviz(tree, out_file = 'tree.dot', feature_names = list((df.iloc[:,:-1]).columns), rounded = True, precision = 1)\n",
        "# Use dot file to create a graph\n",
        "(graph, ) = pydot.graph_from_dot_file('tree.dot')\n",
        "# Write graph to a png file\n",
        "graph.write_png('tree.png')"
      ],
      "execution_count": null,
      "outputs": []
    },
    {
      "cell_type": "code",
      "metadata": {
        "id": "sVQWKea6sk_j",
        "colab_type": "code",
        "colab": {
          "base_uri": "https://localhost:8080/",
          "height": 792
        },
        "outputId": "d2adeedb-a3f7-4b88-ec4b-fe5b4aa076c0"
      },
      "source": [
        "from IPython.display import Image\n",
        "Image(filename='tree.png')"
      ],
      "execution_count": null,
      "outputs": [
        {
          "output_type": "execute_result",
          "data": {
            "image/png": "[encoded data removed]",
            "text/plain": [
              "<IPython.core.display.Image object>"
            ]
          },
          "metadata": {
            "tags": []
          },
          "execution_count": 25
        }
      ]
    },
    {
      "cell_type": "markdown",
      "metadata": {
        "id": "jduFhvyus0Wq",
        "colab_type": "text"
      },
      "source": [
        "### Comparing the actual target values with model predicted target values"
      ]
    },
    {
      "cell_type": "code",
      "metadata": {
        "id": "TXaQLVlysnxM",
        "colab_type": "code",
        "colab": {
          "base_uri": "https://localhost:8080/",
          "height": 195
        },
        "outputId": "31d0ad90-31fc-466c-ca66-e096aa2b253e"
      },
      "source": [
        "rf_Prediction = RFmodel.predict(X_val)\n",
        "X1 = X_val.flatten()\n",
        "df1 = pd.DataFrame({'Actual': y_val.reshape(-1,), 'Predicted': rf_Prediction.reshape(-1,)})  \n",
        "df1"
      ],
      "execution_count": null,
      "outputs": [
        {
          "output_type": "execute_result",
          "data": {
            "text/html": [
              "<div>\n",
              "<style scoped>\n",
              "    .dataframe tbody tr th:only-of-type {\n",
              "        vertical-align: middle;\n",
              "    }\n",
              "\n",
              "    .dataframe tbody tr th {\n",
              "        vertical-align: top;\n",
              "    }\n",
              "\n",
              "    .dataframe thead th {\n",
              "        text-align: right;\n",
              "    }\n",
              "</style>\n",
              "<table border=\"1\" class=\"dataframe\">\n",
              "  <thead>\n",
              "    <tr style=\"text-align: right;\">\n",
              "      <th></th>\n",
              "      <th>Actual</th>\n",
              "      <th>Predicted</th>\n",
              "    </tr>\n",
              "  </thead>\n",
              "  <tbody>\n",
              "    <tr>\n",
              "      <th>0</th>\n",
              "      <td>20</td>\n",
              "      <td>19.7</td>\n",
              "    </tr>\n",
              "    <tr>\n",
              "      <th>1</th>\n",
              "      <td>27</td>\n",
              "      <td>38.4</td>\n",
              "    </tr>\n",
              "    <tr>\n",
              "      <th>2</th>\n",
              "      <td>69</td>\n",
              "      <td>84.3</td>\n",
              "    </tr>\n",
              "    <tr>\n",
              "      <th>3</th>\n",
              "      <td>30</td>\n",
              "      <td>23.0</td>\n",
              "    </tr>\n",
              "    <tr>\n",
              "      <th>4</th>\n",
              "      <td>62</td>\n",
              "      <td>66.5</td>\n",
              "    </tr>\n",
              "  </tbody>\n",
              "</table>\n",
              "</div>"
            ],
            "text/plain": [
              "   Actual  Predicted\n",
              "0      20       19.7\n",
              "1      27       38.4\n",
              "2      69       84.3\n",
              "3      30       23.0\n",
              "4      62       66.5"
            ]
          },
          "metadata": {
            "tags": []
          },
          "execution_count": 26
        }
      ]
    },
    {
      "cell_type": "markdown",
      "metadata": {
        "id": "K_g6cVnitOWs",
        "colab_type": "text"
      },
      "source": [
        "### Evaluating model 4"
      ]
    },
    {
      "cell_type": "code",
      "metadata": {
        "id": "JEaxRSg4tLxq",
        "colab_type": "code",
        "colab": {
          "base_uri": "https://localhost:8080/",
          "height": 84
        },
        "outputId": "2d96364c-1c7c-43fe-ba75-6a6481242682"
      },
      "source": [
        "print('Training Accuracy:',(100*RFmodel.score(X_train, y_train)).round(2),'%')\n",
        "print('Validation Accuracy',(100*RFmodel.score(X_val, y_val)).round(2),'%')\n",
        "MAE2=mean_absolute_error(rf_Prediction,y_val)\n",
        "RMSE2=np.sqrt(mean_squared_error(y_val,linPrediction))\n",
        "print('Mean Absolute error in Model 2:',MAE2.round(2))\n",
        "print('Root Mean Squared Error in Model 2:',RMSE2.round(2))"
      ],
      "execution_count": null,
      "outputs": [
        {
          "output_type": "stream",
          "text": [
            "Training Accuracy: 98.66 %\n",
            "Validation Accuracy 78.12 %\n",
            "Mean Absolute error in Model 2: 7.7\n",
            "Root Mean Squared Error in Model 2: 4.65\n"
          ],
          "name": "stdout"
        }
      ]
    },
    {
      "cell_type": "markdown",
      "metadata": {
        "id": "PrT4KO3itbVS",
        "colab_type": "text"
      },
      "source": [
        "### Training model 5 : Elastic Net model"
      ]
    },
    {
      "cell_type": "code",
      "metadata": {
        "id": "WBp5d_h6tUw9",
        "colab_type": "code",
        "colab": {
          "base_uri": "https://localhost:8080/",
          "height": 67
        },
        "outputId": "aa8b0efb-b6dc-4e4f-f64c-ef155d87bda0"
      },
      "source": [
        "e_net = ElasticNet(alpha = 1) \n",
        "e_net.fit(X_train, y_train) "
      ],
      "execution_count": null,
      "outputs": [
        {
          "output_type": "execute_result",
          "data": {
            "text/plain": [
              "ElasticNet(alpha=1, copy_X=True, fit_intercept=True, l1_ratio=0.5,\n",
              "           max_iter=1000, normalize=False, positive=False, precompute=False,\n",
              "           random_state=None, selection='cyclic', tol=0.0001, warm_start=False)"
            ]
          },
          "metadata": {
            "tags": []
          },
          "execution_count": 30
        }
      ]
    },
    {
      "cell_type": "markdown",
      "metadata": {
        "id": "97wiaAc_tjhp",
        "colab_type": "text"
      },
      "source": [
        "### Visualizing the Model Fit"
      ]
    },
    {
      "cell_type": "code",
      "metadata": {
        "id": "aAZ_35a7tfMY",
        "colab_type": "code",
        "colab": {
          "base_uri": "https://localhost:8080/",
          "height": 302
        },
        "outputId": "7eb26e93-ee40-4a0f-956b-f72819245765"
      },
      "source": [
        "plt.scatter(X, Y)\n",
        "plt.plot(X, e_net.predict(X), c='red')\n",
        "plt.ylabel(\"Scores\",fontsize=15)\n",
        "plt.xlabel(\"Hours\",fontsize=15)\n",
        "plt.title(\"Elastic Net plot\",fontsize=15)\n",
        "plt.show()"
      ],
      "execution_count": null,
      "outputs": [
        {
          "output_type": "display_data",
          "data": {
            "image/png": "[encoded data removed]",
            "text/plain": [
              "<Figure size 432x288 with 1 Axes>"
            ]
          },
          "metadata": {
            "tags": [],
            "needs_background": "light"
          }
        }
      ]
    },
    {
      "cell_type": "markdown",
      "metadata": {
        "id": "gPxyHQ6ptpSd",
        "colab_type": "text"
      },
      "source": [
        "### Comparing the actual target values with model predicted target values"
      ]
    },
    {
      "cell_type": "code",
      "metadata": {
        "id": "BuXKtYPFtnQo",
        "colab_type": "code",
        "colab": {
          "base_uri": "https://localhost:8080/",
          "height": 195
        },
        "outputId": "69aeb7fe-b893-4421-a20c-fc7cc7111dd2"
      },
      "source": [
        "e_net_prediction = e_net.predict(X_val)\n",
        "df1 = pd.DataFrame({'Actual': y_val.reshape(-1,), 'Predicted': e_net_prediction.reshape(-1,)})  \n",
        "df1"
      ],
      "execution_count": null,
      "outputs": [
        {
          "output_type": "execute_result",
          "data": {
            "text/html": [
              "<div>\n",
              "<style scoped>\n",
              "    .dataframe tbody tr th:only-of-type {\n",
              "        vertical-align: middle;\n",
              "    }\n",
              "\n",
              "    .dataframe tbody tr th {\n",
              "        vertical-align: top;\n",
              "    }\n",
              "\n",
              "    .dataframe thead th {\n",
              "        text-align: right;\n",
              "    }\n",
              "</style>\n",
              "<table border=\"1\" class=\"dataframe\">\n",
              "  <thead>\n",
              "    <tr style=\"text-align: right;\">\n",
              "      <th></th>\n",
              "      <th>Actual</th>\n",
              "      <th>Predicted</th>\n",
              "    </tr>\n",
              "  </thead>\n",
              "  <tbody>\n",
              "    <tr>\n",
              "      <th>0</th>\n",
              "      <td>20</td>\n",
              "      <td>19.939207</td>\n",
              "    </tr>\n",
              "    <tr>\n",
              "      <th>1</th>\n",
              "      <td>27</td>\n",
              "      <td>35.398658</td>\n",
              "    </tr>\n",
              "    <tr>\n",
              "      <th>2</th>\n",
              "      <td>69</td>\n",
              "      <td>73.592597</td>\n",
              "    </tr>\n",
              "    <tr>\n",
              "      <th>3</th>\n",
              "      <td>30</td>\n",
              "      <td>29.033002</td>\n",
              "    </tr>\n",
              "    <tr>\n",
              "      <th>4</th>\n",
              "      <td>62</td>\n",
              "      <td>59.951905</td>\n",
              "    </tr>\n",
              "  </tbody>\n",
              "</table>\n",
              "</div>"
            ],
            "text/plain": [
              "   Actual  Predicted\n",
              "0      20  19.939207\n",
              "1      27  35.398658\n",
              "2      69  73.592597\n",
              "3      30  29.033002\n",
              "4      62  59.951905"
            ]
          },
          "metadata": {
            "tags": []
          },
          "execution_count": 32
        }
      ]
    },
    {
      "cell_type": "markdown",
      "metadata": {
        "id": "my-itJQKt8II",
        "colab_type": "text"
      },
      "source": [
        "### Evaluating model 5"
      ]
    },
    {
      "cell_type": "code",
      "metadata": {
        "id": "tql_LffLt5um",
        "colab_type": "code",
        "colab": {
          "base_uri": "https://localhost:8080/",
          "height": 84
        },
        "outputId": "8080f2a4-f82e-4e2d-a409-e691b5a3a7d7"
      },
      "source": [
        "print('Training Accuracy:',(100*e_net.score(X_train, y_train)).round(2),'%')\n",
        "print('Validation Accuracy',(100*e_net.score(X_val, y_val)).round(2),'%')\n",
        "MAE5=mean_absolute_error(e_net_prediction,y_val)\n",
        "RMSE5=np.sqrt(mean_squared_error(y_val,e_net_prediction))\n",
        "print('Mean Absolute error in Model 5:',MAE5.round(2))\n",
        "print('Root Mean Squared Error in Model 5:',RMSE5.round(2))"
      ],
      "execution_count": null,
      "outputs": [
        {
          "output_type": "stream",
          "text": [
            "Training Accuracy: 94.51 %\n",
            "Validation Accuracy 95.12 %\n",
            "Mean Absolute error in Model 5: 3.21\n",
            "Root Mean Squared Error in Model 5: 4.4\n"
          ],
          "name": "stdout"
        }
      ]
    },
    {
      "cell_type": "markdown",
      "metadata": {
        "id": "_CvrZbhiuPks",
        "colab_type": "text"
      },
      "source": [
        "**INFERENCE**: Here we can see that model 5(Elastic Net) has the least mean absolute error and root mean squared error so we can use that model for our prediction."
      ]
    },
    {
      "cell_type": "markdown",
      "metadata": {
        "id": "AvJ23PPfuqok",
        "colab_type": "text"
      },
      "source": [
        "## Predicting using Elastic Net Model\n",
        "\n",
        "#### What will be predicted score of a student if he/she studies for 9.25 hours in a day?"
      ]
    },
    {
      "cell_type": "code",
      "metadata": {
        "id": "EOP8IxP5t_xT",
        "colab_type": "code",
        "colab": {
          "base_uri": "https://localhost:8080/",
          "height": 50
        },
        "outputId": "76145ea1-58b2-489b-9c69-2f51e879c78f"
      },
      "source": [
        "hours = 9.25\n",
        "own_pred = e_net.predict([[hours]])\n",
        "print(\"No of Hours = {}\".format(hours))\n",
        "print(\"Predicted Score = {}\".format(own_pred[0].round(2)))"
      ],
      "execution_count": null,
      "outputs": [
        {
          "output_type": "stream",
          "text": [
            "No of Hours = 9.25\n",
            "Predicted Score = 90.42\n"
          ],
          "name": "stdout"
        }
      ]
    }
  ]
}